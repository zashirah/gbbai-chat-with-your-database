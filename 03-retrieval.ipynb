{
 "cells": [
  {
   "cell_type": "markdown",
   "metadata": {},
   "source": [
    "## 📚 Prerequisites\n",
    "\n",
    "Before executing this notebook, make sure you have properly set up your Azure Services, created your Conda environment, and configured your environment variables as per the instructions provided in the [README.md](README.md) file.\n",
    "\n",
    ">%pip install azure-search-documents==11.4.0b10\n",
    "\n",
    "## 📋 Table of Contents\n",
    "\n",
    "Explore different retrieval methods in Azure AI Search:\n",
    "\n",
    "1. [**Understanding Types of Search**](#define-field-types): This section provides a comprehensive overview of the different types of search methods available in Azure AI Search.\n",
    "2. [**Keyword Search**](#keyword-search): Use direct query term matching with document content.\n",
    "3. [**Vector Search**](#vector-search): Employ embeddings for semantic content understanding and relevance ranking.\n",
    "4. [**Hybrid Search**](#hybrid-search): Combine keyword and vector search for comprehensive results.\n",
    "5. [**Reranking Search**](#reranking-search): Reorder initial search results for improved top result relevance.\n",
    "\n",
    "Additional resources:\n",
    "- [Azure AI Search Documentation](https://learn.microsoft.com/en-us/azure/search/)"
   ]
  },
  {
   "cell_type": "code",
   "execution_count": 1,
   "metadata": {},
   "outputs": [
    {
     "name": "stdout",
     "output_type": "stream",
     "text": [
      "Collecting azure-search-documents==11.4.0b10\n",
      "  Downloading azure_search_documents-11.4.0b10-py3-none-any.whl.metadata (22 kB)\n",
      "Requirement already satisfied: azure-core<2.0.0,>=1.24.0 in c:\\users\\zshirah\\appdata\\local\\miniconda3\\envs\\chat-with-your-database\\lib\\site-packages (from azure-search-documents==11.4.0b10) (1.30.0)\n",
      "Requirement already satisfied: azure-common~=1.1 in c:\\users\\zshirah\\appdata\\local\\miniconda3\\envs\\chat-with-your-database\\lib\\site-packages (from azure-search-documents==11.4.0b10) (1.1.28)\n",
      "Requirement already satisfied: isodate>=0.6.0 in c:\\users\\zshirah\\appdata\\local\\miniconda3\\envs\\chat-with-your-database\\lib\\site-packages (from azure-search-documents==11.4.0b10) (0.6.1)\n",
      "Requirement already satisfied: requests>=2.21.0 in c:\\users\\zshirah\\appdata\\local\\miniconda3\\envs\\chat-with-your-database\\lib\\site-packages (from azure-core<2.0.0,>=1.24.0->azure-search-documents==11.4.0b10) (2.31.0)\n",
      "Requirement already satisfied: six>=1.11.0 in c:\\users\\zshirah\\appdata\\local\\miniconda3\\envs\\chat-with-your-database\\lib\\site-packages (from azure-core<2.0.0,>=1.24.0->azure-search-documents==11.4.0b10) (1.16.0)\n",
      "Requirement already satisfied: typing-extensions>=4.6.0 in c:\\users\\zshirah\\appdata\\local\\miniconda3\\envs\\chat-with-your-database\\lib\\site-packages (from azure-core<2.0.0,>=1.24.0->azure-search-documents==11.4.0b10) (4.9.0)\n",
      "Requirement already satisfied: charset-normalizer<4,>=2 in c:\\users\\zshirah\\appdata\\local\\miniconda3\\envs\\chat-with-your-database\\lib\\site-packages (from requests>=2.21.0->azure-core<2.0.0,>=1.24.0->azure-search-documents==11.4.0b10) (3.3.2)\n",
      "Requirement already satisfied: idna<4,>=2.5 in c:\\users\\zshirah\\appdata\\local\\miniconda3\\envs\\chat-with-your-database\\lib\\site-packages (from requests>=2.21.0->azure-core<2.0.0,>=1.24.0->azure-search-documents==11.4.0b10) (3.6)\n",
      "Requirement already satisfied: urllib3<3,>=1.21.1 in c:\\users\\zshirah\\appdata\\local\\miniconda3\\envs\\chat-with-your-database\\lib\\site-packages (from requests>=2.21.0->azure-core<2.0.0,>=1.24.0->azure-search-documents==11.4.0b10) (2.2.0)\n",
      "Requirement already satisfied: certifi>=2017.4.17 in c:\\users\\zshirah\\appdata\\local\\miniconda3\\envs\\chat-with-your-database\\lib\\site-packages (from requests>=2.21.0->azure-core<2.0.0,>=1.24.0->azure-search-documents==11.4.0b10) (2024.2.2)\n",
      "Downloading azure_search_documents-11.4.0b10-py3-none-any.whl (312 kB)\n",
      "   ---------------------------------------- 0.0/312.3 kB ? eta -:--:--\n",
      "   ------- -------------------------------- 61.4/312.3 kB 1.1 MB/s eta 0:00:01\n",
      "   ---------------------------------------  307.2/312.3 kB 3.8 MB/s eta 0:00:01\n",
      "   ---------------------------------------- 312.3/312.3 kB 2.8 MB/s eta 0:00:00\n",
      "Installing collected packages: azure-search-documents\n",
      "  Attempting uninstall: azure-search-documents\n",
      "    Found existing installation: azure-search-documents 11.4.0\n",
      "    Uninstalling azure-search-documents-11.4.0:\n",
      "      Successfully uninstalled azure-search-documents-11.4.0\n",
      "Successfully installed azure-search-documents-11.4.0b10\n",
      "Note: you may need to restart the kernel to use updated packages.\n"
     ]
    }
   ],
   "source": [
    "%pip install azure-search-documents==11.4.0b10"
   ]
  },
  {
   "cell_type": "markdown",
   "metadata": {},
   "source": [
    "### 🧭 Understanding Types of Search  \n",
    "\n",
    "+ **Keyword Search**: Traditional search method relying on direct term matching. Efficient for exact matches but struggles with synonyms and context. [Learn More](https://learn.microsoft.com/en-us/azure/search/search-lucene-query-architecture)\n",
    "\n",
    "- **Vector Search**: Converts text into high-dimensional vectors to understand semantic meaning. Finds relevant documents even without exact keyword matches. Effectiveness depends on quality of training data. [Learn More](https://learn.microsoft.com/en-us/azure/search/vector-search-overview)\n",
    "\n",
    "+ **Hybrid Search**: Combines Keyword and Vector Search for comprehensive, contextually relevant results. Effective for complex queries requiring nuanced understanding. [Learn More](https://learn.microsoft.com/en-us/azure/search/vector-search-ranking#hybrid-search)\n",
    "\n",
    "- **Reranking Search**: Fine-tunes initial search results using advanced algorithms for relevance. Useful when initial retrieval returns relevant but not optimally ordered results. [Learn More](https://learn.microsoft.com/en-us/azure/search/semantic-search-overview)\n",
    "\n",
    "### 🚧 Limitations\n",
    "\n",
    "##### Keyword Search\n",
    "- **Synonym Challenges**: Struggles with recognizing synonyms or different expressions of the same concept.\n",
    "- **Context Understanding**: May not fully capture the broader context or the query's intent, especially in complex queries.\n",
    "##### Embedding-Based Search\n",
    "- **Keyword Precision**: May miss documents that contain exact terms if those terms don't semantically align with the query or document's overall content.\n",
    "- **Contextual Misinterpretations**: May overgeneralize or incorrectly interpret context, missing specific nuances.\n",
    "- **Training Data Dependency**: Performance heavily relies on the diversity and depth of the training data.\n",
    "### 💡 Recommendations\n",
    "\n",
    "To achieve higher relevance out of the box: \n",
    "\n",
    "1. **Hybrid Search**: Combines keyword and vector search methods to ensure comprehensive document retrieval across a range of queries, from highly specific to semantically complex.\n",
    "\n",
    "2. **Re-Ranking and L2 in AI Search**: Enhances initial search results by applying sophisticated ranking algorithms, improving relevance and accuracy, especially for nuanced queries."
   ]
  },
  {
   "cell_type": "code",
   "execution_count": 2,
   "metadata": {},
   "outputs": [],
   "source": [
    "# %pip install azure-search-documents==11.4.0b10"
   ]
  },
  {
   "cell_type": "code",
   "execution_count": 1,
   "metadata": {},
   "outputs": [
    {
     "name": "stdout",
     "output_type": "stream",
     "text": [
      "Directory changed to C:\\Users\\zshirah\\repos\\gbbai-chat-with-your-database\n"
     ]
    }
   ],
   "source": [
    "import os\n",
    "\n",
    "# Define the target directory (change yours)\n",
    "target_directory = r\"C:\\Users\\zshirah\\repos\\gbbai-chat-with-your-database\"\n",
    "\n",
    "# Check if the directory exists\n",
    "if os.path.exists(target_directory):\n",
    "    # Change the current working directory\n",
    "    os.chdir(target_directory)\n",
    "    print(f\"Directory changed to {os.getcwd()}\")\n",
    "else:\n",
    "    print(f\"Directory {target_directory} does not exist.\")"
   ]
  },
  {
   "cell_type": "code",
   "execution_count": 2,
   "metadata": {},
   "outputs": [],
   "source": [
    "import os\n",
    "from dotenv import load_dotenv\n",
    "from azure.core.credentials import AzureKeyCredential\n",
    "from azure.search.documents import SearchClient\n",
    "from azure.search.documents.models import RawVectorQuery\n",
    "\n",
    "from src.aoai.azure_openai import AzureOpenAIManager"
   ]
  },
  {
   "cell_type": "code",
   "execution_count": 3,
   "metadata": {},
   "outputs": [],
   "source": [
    "# Load environment variables from .env file\n",
    "load_dotenv()\n",
    "\n",
    "# Set up Azure Cognitive Search credentials\n",
    "service_endpoint = os.getenv(\"AZURE_AI_SEARCH_SERVICE_ENDPOINT\")\n",
    "key = os.getenv(\"AZURE_SEARCH_ADMIN_KEY\")\n",
    "credential = AzureKeyCredential(key)\n",
    "\n",
    "# Define the name of the Azure Search index\n",
    "# This is the index where your data is stored in Azure Search\n",
    "index_name = \"query-dev-index\"\n",
    "\n",
    "# Set up the Azure Search client with the specified index\n",
    "# This prepares the client to interact with the Azure Search service\n",
    "search_client = SearchClient(service_endpoint, index_name, credential=credential)"
   ]
  },
  {
   "cell_type": "code",
   "execution_count": 4,
   "metadata": {},
   "outputs": [],
   "source": [
    "embedding_aoai_deployment_model = \"foundational-ada\"\n",
    "aoai_client = AzureOpenAIManager()"
   ]
  },
  {
   "cell_type": "code",
   "execution_count": 5,
   "metadata": {},
   "outputs": [],
   "source": [
    "search_query = \"Identify players who played more than 100 games, have an OPS (On-base Plus Slugging) higher than .900, and have less than 10 errors in a season.\"\n",
    "search_vector = aoai_client.generate_embedding(input_text=search_query)"
   ]
  },
  {
   "cell_type": "markdown",
   "metadata": {},
   "source": [
    "## Keyword Search \n",
    "\n",
    "**Full-text search**: This method uses the `@search.score` parameter and the BM25 algorithm for scoring. The BM25 algorithm is a bag-of-words retrieval function that ranks a set of documents based on the query terms appearing in each document, regardless of their proximity within the document. There is no upper limit for the score in this method.\n",
    "\n",
    "```json\n",
    "\"value\": [\n",
    " {\n",
    "    \"@search.score\": 5.1958685,\n",
    "    \"@search.features\": {\n",
    "        \"description\": {\n",
    "            \"uniqueTokenMatches\": 1.0,\n",
    "            \"similarityScore\": 0.29541412,\n",
    "            \"termFrequency\" : 2\n",
    "        },\n",
    "        \"title\": {\n",
    "            \"uniqueTokenMatches\": 3.0,\n",
    "            \"similarityScore\": 1.75451557,\n",
    "            \"termFrequency\" : 6\n",
    "        }\n",
    "    }\n",
    " }\n",
    "]\n",
    " ```\n",
    "\n",
    "- `uniqueTokenMatches`: This parameter indicates the number of unique query terms found in the document field. A higher value means more unique query terms were found, suggesting a stronger match.\n",
    "\n",
    "- `similarityScore`: This parameter represents the semantic similarity between the content of the document field and the query terms. A higher `similarityScore` means the document content is more semantically similar to the query, indicating a more relevant match.\n",
    "\n",
    "- `termFrequency`: This parameter shows how often the query terms appear within the document field. A higher `termFrequency` means the query terms appear more often, suggesting a stronger match.\n",
    "\n",
    "These parameters contribute to the overall `@search.score`. The `@search.score` is a cumulative measure of a document's relevance to the search query. A higher `@search.score` indicates a stronger match between the document and the search query.\n",
    "\n",
    "When interpreting search results, documents with higher scores are generally considered more relevant to the query than those with lower scores."
   ]
  },
  {
   "cell_type": "code",
   "execution_count": 6,
   "metadata": {},
   "outputs": [
    {
     "name": "stdout",
     "output_type": "stream",
     "text": [
      "score: 5.7063007. The provided schema is for a table named 'detroit_tigers_baseball_stats', which likely stores statistical data related to the players of the Detroit Tigers, a professional baseball team. The table has eight columns, each with different data types.  1. 'name' - This is a NVARCHAR type column, which is used to store non-Unicode character data. This column likely stores the names of the baseball players.  2. 'position' - This NVARCHAR type column probably stores the position each player holds in the team. Examples could include positions like pitcher, catcher, infielder, outfielder, etc.  3. 'Games_Played' - The TINYINT type column is used for storing very small numbers. This field likely stores the number of games played by each player.  4. 'At_Bats' - This SMALLINT type column is used for storing small numbers. It probably represents the number of times a player has been at bat.  5. 'Hits' - Another TINYINT type column, it likely stores the number of successful hits made by each player.\n",
      "score: 5.6776853. The provided schema is for a table named 'detroit_tigers_baseball_stats', which likely stores statistical data related to the players of the Detroit Tigers, a professional baseball team. The table contains eight columns, each representing a different aspect of a player's performance or role within the team.  1. 'name': This field is of data type 'nvarchar', which means it stores non-Unicode character data. It's likely used to store the names of the players.  2. 'position': This 'nvarchar' field probably represents the role or position a player holds within the team (such as pitcher, catcher, infielder, etc).  3. 'Games_Played': This 'tinyint' field stores the number of games a player has participated in. The 'tinyint' data type means this field can hold values from 0 to 255.  4. 'At_Bats': This 'smallint' field likely records the number of attempts a player has had to hit the ball. The 'smallint' data type allows for values between -32,768 and 32,767.  5. 'Hits': Another 'tinyint' fiel\n",
      "score: 5.5687957. The provided schema is for a table named 'detroit_tigers_baseball_stats', which likely stores statistical data related to the players of the Detroit Tigers, a professional baseball team. The table has eight columns, each with a distinct purpose.  1. 'name' (nvarchar): This field presumably stores the player's name. It is of the 'nvarchar' data type, which can hold Unicode text. This implies that the database can store names in various languages and scripts, accommodating a wide range of player names.  2. 'position' (nvarchar): This field likely defines the player's position on the team. Similar to 'name', the 'nvarchar' type allows for diverse entries, including positions specific to baseball like 'pitcher', 'catcher', 'first base', etc.  3. 'Games_Played' (tinyint): This field appears to keep track of the number of games each player has participated in. The 'tinyint' data type is used, suggesting that the number of games a player can participate in is expected to be relatively small. \n",
      "score: 3.6518915. The provided schema is for a table named 'detroit_tigers_baseball_stats', which likely stores statistical data related to the players of the Detroit Tigers, a professional baseball team. The table has eight columns, each with a distinct purpose.  1. 'name' (nvarchar): This field presumably stores the name of each player. The nvarchar data type suggests the names could be in any language, not just English.  2. 'position' (nvarchar): This field is likely to contain the position each player plays in the game. As an nvarchar, it can accommodate various position names.  3. 'Games_Played' (tinyint): This field appears to track the number of games each player has played. The tinyint data type indicates this number is likely to be relatively small (0-255).  4. 'At_Bats' (smallint): This field seems to monitor the number of times each player has been at bat. The smallint type can handle numbers up to 32,767, enough for this purpose.  5. 'Hits' (tinyint): This field likely records the number of \n"
     ]
    }
   ],
   "source": [
    "# keyword search\n",
    "r = search_client.search(search_query, top=5)\n",
    "for doc in r:\n",
    "    if \"players\" in doc[\"table_content\"]:\n",
    "        content = doc[\"table_content\"].replace(\"\\n\", \" \")[:1000]\n",
    "        print(f\"score: {doc['@search.score']}. {content}\")"
   ]
  },
  {
   "cell_type": "markdown",
   "metadata": {},
   "source": [
    "## Vector Search \n",
    "\n",
    "This method also uses the `@search.score` parameter but uses the HNSW (Hierarchical Navigable Small World) algorithm for scoring. The HNSW algorithm is an efficient method for nearest neighbor search in high dimensional spaces. The scoring range is 0.333 - 1.00 for Cosine similarity, and 0 to 1 for Euclidean and DotProduct similarities."
   ]
  },
  {
   "cell_type": "code",
   "execution_count": 7,
   "metadata": {},
   "outputs": [
    {
     "name": "stdout",
     "output_type": "stream",
     "text": [
      "score: 0.82142127. The provided schema is for a table named 'detroit_tigers_baseball_stats', which likely stores statistical data related to the players of the Detroit Tigers, a professional baseball team. The table contains eight columns, each representing a different aspect of a player's performance or role within the team.  1. 'name': This field is of data type 'nvarchar', which means it stores non-Unicode character data. It's likely used to store the names of the players.  2. 'position': This 'nvarchar' field probably represents the role or position a player holds within the team (such as pitcher, catcher, infielder, etc).  3. 'Games_Played': This 'tinyint' field stores the number of games a player has participated in. The 'tinyint' data type means this field can hold values from 0 to 255.  4. 'At_Bats': This 'smallint' field likely records the number of attempts a player has had to hit the ball. The 'smallint' data type allows for values between -32,768 and 32,767.  5. 'Hits': Another 'tinyint' fiel\n",
      "score: 0.81812257. The provided schema is for a table named 'detroit_tigers_baseball_stats', which likely stores statistical data related to the players of the Detroit Tigers, a professional baseball team. The table has eight columns, each with different data types.  1. 'name' - This is a NVARCHAR type column, which is used to store non-Unicode character data. This column likely stores the names of the baseball players.  2. 'position' - This NVARCHAR type column probably stores the position each player holds in the team. Examples could include positions like pitcher, catcher, infielder, outfielder, etc.  3. 'Games_Played' - The TINYINT type column is used for storing very small numbers. This field likely stores the number of games played by each player.  4. 'At_Bats' - This SMALLINT type column is used for storing small numbers. It probably represents the number of times a player has been at bat.  5. 'Hits' - Another TINYINT type column, it likely stores the number of successful hits made by each player.\n",
      "score: 0.8163919. The provided schema is for a table named 'detroit_tigers_baseball_stats', which likely stores statistical data related to the players of the Detroit Tigers, a professional baseball team. The table has eight columns, each with a distinct purpose.  1. 'name' (nvarchar): This field presumably stores the name of each player. The nvarchar data type suggests the names could be in any language, not just English.  2. 'position' (nvarchar): This field is likely to contain the position each player plays in the game. As an nvarchar, it can accommodate various position names.  3. 'Games_Played' (tinyint): This field appears to track the number of games each player has played. The tinyint data type indicates this number is likely to be relatively small (0-255).  4. 'At_Bats' (smallint): This field seems to monitor the number of times each player has been at bat. The smallint type can handle numbers up to 32,767, enough for this purpose.  5. 'Hits' (tinyint): This field likely records the number of \n",
      "score: 0.8150203. The provided schema is for a table named 'detroit_tigers_baseball_stats', which likely stores statistical data related to the players of the Detroit Tigers, a professional baseball team. The table has eight columns, each with a distinct purpose.  1. 'name' (nvarchar): This field presumably stores the player's name. It is of the 'nvarchar' data type, which can hold Unicode text. This implies that the database can store names in various languages and scripts, accommodating a wide range of player names.  2. 'position' (nvarchar): This field likely defines the player's position on the team. Similar to 'name', the 'nvarchar' type allows for diverse entries, including positions specific to baseball like 'pitcher', 'catcher', 'first base', etc.  3. 'Games_Played' (tinyint): This field appears to keep track of the number of games each player has participated in. The 'tinyint' data type is used, suggesting that the number of games a player can participate in is expected to be relatively small. \n"
     ]
    }
   ],
   "source": [
    "# Pure vector Search\n",
    "r = search_client.search(\n",
    "    None,\n",
    "    top=5,\n",
    "    vector_queries=[RawVectorQuery(vector=search_vector, k=50, fields=\"table_vector\")],\n",
    ")\n",
    "for doc in r:\n",
    "    content = doc[\"table_content\"].replace(\"\\n\", \" \")[:1000]\n",
    "    print(f\"score: {doc['@search.score']}. {content}\")"
   ]
  },
  {
   "cell_type": "markdown",
   "metadata": {},
   "source": [
    "## Hybrid search\n",
    "\n",
    "This method uses the `@search.score` parameter and the RRF (Reciprocal Rank Fusion) algorithm for scoring. The RRF algorithm is a method for data fusion that combines the results of multiple queries. The upper limit of the score is bounded by the number of queries being fused, with each query contributing a maximum of approximately 1 to the RRF score. For example, merging three queries would produce higher RRF scores than if only two search results are merged."
   ]
  },
  {
   "cell_type": "code",
   "execution_count": 8,
   "metadata": {},
   "outputs": [
    {
     "name": "stdout",
     "output_type": "stream",
     "text": [
      "score: 0.03306011110544205, reranker: None. The provided schema is for a table named 'detroit_tigers_baseball_stats', which likely stores statistical data related to the players of the Detroit Tigers, a professional baseball team. The table has eight columns, each with different data types.  1. 'name' - This is a NVARCHAR type column, which is used to store non-Unicode character data. This column likely stores the names of the baseball players.  2. 'position' - This NVARCHAR type column probably stores the position each player holds in the team. Examples could include positions like pitcher, catcher, infielder, outfielder, etc.  3. 'Games_Played' - The TINYINT type column is used for storing very small numbers. This field likely stores the number of games played by each player.  4. 'At_Bats' - This SMALLINT type column is used for storing small numbers. It probably represents the number of times a player has been at bat.  5. 'Hits' - Another TINYINT type column, it likely stores the number of successful hits made by each player.\n",
      "score: 0.03306011110544205, reranker: None. The provided schema is for a table named 'detroit_tigers_baseball_stats', which likely stores statistical data related to the players of the Detroit Tigers, a professional baseball team. The table contains eight columns, each representing a different aspect of a player's performance or role within the team.  1. 'name': This field is of data type 'nvarchar', which means it stores non-Unicode character data. It's likely used to store the names of the players.  2. 'position': This 'nvarchar' field probably represents the role or position a player holds within the team (such as pitcher, catcher, infielder, etc).  3. 'Games_Played': This 'tinyint' field stores the number of games a player has participated in. The 'tinyint' data type means this field can hold values from 0 to 255.  4. 'At_Bats': This 'smallint' field likely records the number of attempts a player has had to hit the ball. The 'smallint' data type allows for values between -32,768 and 32,767.  5. 'Hits': Another 'tinyint' fiel\n",
      "score: 0.0320020467042923, reranker: None. The provided schema is for a table named 'detroit_tigers_baseball_stats', which likely stores statistical data related to the players of the Detroit Tigers, a professional baseball team. The table has eight columns, each with a distinct purpose.  1. 'name' (nvarchar): This field presumably stores the player's name. It is of the 'nvarchar' data type, which can hold Unicode text. This implies that the database can store names in various languages and scripts, accommodating a wide range of player names.  2. 'position' (nvarchar): This field likely defines the player's position on the team. Similar to 'name', the 'nvarchar' type allows for diverse entries, including positions specific to baseball like 'pitcher', 'catcher', 'first base', etc.  3. 'Games_Played' (tinyint): This field appears to keep track of the number of games each player has participated in. The 'tinyint' data type is used, suggesting that the number of games a player can participate in is expected to be relatively small. \n",
      "score: 0.0320020467042923, reranker: None. The provided schema is for a table named 'detroit_tigers_baseball_stats', which likely stores statistical data related to the players of the Detroit Tigers, a professional baseball team. The table has eight columns, each with a distinct purpose.  1. 'name' (nvarchar): This field presumably stores the name of each player. The nvarchar data type suggests the names could be in any language, not just English.  2. 'position' (nvarchar): This field is likely to contain the position each player plays in the game. As an nvarchar, it can accommodate various position names.  3. 'Games_Played' (tinyint): This field appears to track the number of games each player has played. The tinyint data type indicates this number is likely to be relatively small (0-255).  4. 'At_Bats' (smallint): This field seems to monitor the number of times each player has been at bat. The smallint type can handle numbers up to 32,767, enough for this purpose.  5. 'Hits' (tinyint): This field likely records the number of \n"
     ]
    }
   ],
   "source": [
    "r = search_client.search(\n",
    "    search_query,\n",
    "    top=5,\n",
    "    vector_queries=[RawVectorQuery(vector=search_vector, k=50, fields=\"table_vector\")],\n",
    ")\n",
    "for doc in r:\n",
    "    content = doc[\"table_content\"].replace(\"\\n\", \" \")[:1000]\n",
    "    print(\n",
    "        f\"score: {doc['@search.score']}, reranker: {doc['@search.reranker_score']}. {content}\"\n",
    "    )"
   ]
  },
  {
   "cell_type": "markdown",
   "metadata": {},
   "source": [
    "#### Enable Exhaustive `ExhaustiveKnn`"
   ]
  },
  {
   "cell_type": "code",
   "execution_count": 9,
   "metadata": {},
   "outputs": [
    {
     "name": "stdout",
     "output_type": "stream",
     "text": [
      "score: 0.03306011110544205, reranker: None. The provided schema is for a table named 'detroit_tigers_baseball_stats', which likely stores statistical data related to the players of the Detroit Tigers, a professional baseball team. The table has eight columns, each with different data types.  1. 'name' - This is a NVARCHAR type column, which is used to store non-Unicode character data. This column likely stores the names of the baseball players.  2. 'position' - This NVARCHAR type column probably stores the position each player holds in the team. Examples could include positions like pitcher, catcher, infielder, outfielder, etc.  3. 'Games_Played' - The TINYINT type column is used for storing very small numbers. This field likely stores the number of games played by each player.  4. 'At_Bats' - This SMALLINT type column is used for storing small numbers. It probably represents the number of times a player has been at bat.  5. 'Hits' - Another TINYINT type column, it likely stores the number of successful hits made by each player.\n",
      "score: 0.03306011110544205, reranker: None. The provided schema is for a table named 'detroit_tigers_baseball_stats', which likely stores statistical data related to the players of the Detroit Tigers, a professional baseball team. The table contains eight columns, each representing a different aspect of a player's performance or role within the team.  1. 'name': This field is of data type 'nvarchar', which means it stores non-Unicode character data. It's likely used to store the names of the players.  2. 'position': This 'nvarchar' field probably represents the role or position a player holds within the team (such as pitcher, catcher, infielder, etc).  3. 'Games_Played': This 'tinyint' field stores the number of games a player has participated in. The 'tinyint' data type means this field can hold values from 0 to 255.  4. 'At_Bats': This 'smallint' field likely records the number of attempts a player has had to hit the ball. The 'smallint' data type allows for values between -32,768 and 32,767.  5. 'Hits': Another 'tinyint' fiel\n",
      "score: 0.0320020467042923, reranker: None. The provided schema is for a table named 'detroit_tigers_baseball_stats', which likely stores statistical data related to the players of the Detroit Tigers, a professional baseball team. The table has eight columns, each with a distinct purpose.  1. 'name' (nvarchar): This field presumably stores the player's name. It is of the 'nvarchar' data type, which can hold Unicode text. This implies that the database can store names in various languages and scripts, accommodating a wide range of player names.  2. 'position' (nvarchar): This field likely defines the player's position on the team. Similar to 'name', the 'nvarchar' type allows for diverse entries, including positions specific to baseball like 'pitcher', 'catcher', 'first base', etc.  3. 'Games_Played' (tinyint): This field appears to keep track of the number of games each player has participated in. The 'tinyint' data type is used, suggesting that the number of games a player can participate in is expected to be relatively small. \n",
      "score: 0.0320020467042923, reranker: None. The provided schema is for a table named 'detroit_tigers_baseball_stats', which likely stores statistical data related to the players of the Detroit Tigers, a professional baseball team. The table has eight columns, each with a distinct purpose.  1. 'name' (nvarchar): This field presumably stores the name of each player. The nvarchar data type suggests the names could be in any language, not just English.  2. 'position' (nvarchar): This field is likely to contain the position each player plays in the game. As an nvarchar, it can accommodate various position names.  3. 'Games_Played' (tinyint): This field appears to track the number of games each player has played. The tinyint data type indicates this number is likely to be relatively small (0-255).  4. 'At_Bats' (smallint): This field seems to monitor the number of times each player has been at bat. The smallint type can handle numbers up to 32,767, enough for this purpose.  5. 'Hits' (tinyint): This field likely records the number of \n"
     ]
    }
   ],
   "source": [
    "r = search_client.search(\n",
    "    search_query,\n",
    "    top=5,\n",
    "    vector_queries=[\n",
    "        RawVectorQuery(\n",
    "            vector=search_vector, k=50, fields=\"table_vector\", exhaustive=True\n",
    "        )\n",
    "    ],\n",
    ")\n",
    "for doc in r:\n",
    "    content = doc[\"table_content\"].replace(\"\\n\", \" \")[:1000]\n",
    "    print(\n",
    "        f\"score: {doc['@search.score']}, reranker: {doc['@search.reranker_score']}. {content}\"\n",
    "    )"
   ]
  },
  {
   "cell_type": "markdown",
   "metadata": {},
   "source": [
    "## Semantic ranking\n",
    "\n",
    "This method uses the `@search.rerankerScore` parameter and a semantic ranking algorithm for scoring. Semantic ranking is a method that uses machine learning models to understand the semantic content of the queries and documents, and ranks the documents based on their relevance to the query. The scoring range is 0.00 - 4.00 in this method.\n",
    "\n",
    "Remember, a higher score indicates a higher relevance of the document to the query."
   ]
  },
  {
   "cell_type": "code",
   "execution_count": 10,
   "metadata": {},
   "outputs": [
    {
     "name": "stdout",
     "output_type": "stream",
     "text": [
      "Table Name: detroit_tigers_baseball_stats\n",
      "Score: 0.03306011110544205\n",
      "Reranker Score: 2.2622931003570557\n",
      "Content: The provided schema is for a table named 'detroit_tigers_baseball_stats', which likely stores statistical data related to the players of the Detroit Tigers, a professional baseball team. The table contains eight columns, each representing a different aspect of a player's performance or role within the team.  1. 'name': This field is of data type 'nvarchar', which means it stores non-Unicode character data. It's likely used to store the names of the players.  2. 'position': This 'nvarchar' field probably represents the role or position a player holds within the team (such as pitcher, catcher, infielder, etc).  3. 'Games_Played': This 'tinyint' field stores the number of games a player has participated in. The 'tinyint' data type means this field can hold values from 0 to 255.  4. 'At_Bats': This 'smallint' field likely records the number of attempts a player has had to hit the ball. The 'smallint' data type allows for values between -32,768 and 32,767.  5. 'Hits': Another 'tinyint' fiel\n",
      "--------------------------------------------------\n",
      "Table Name: expanded_detroit_tigers_baseball_stats\n",
      "Score: 0.03306011110544205\n",
      "Reranker Score: 1.879040241241455\n",
      "Content: The provided schema is for a table named 'detroit_tigers_baseball_stats', which likely stores statistical data related to the players of the Detroit Tigers, a professional baseball team. The table has eight columns, each with different data types.  1. 'name' - This is a NVARCHAR type column, which is used to store non-Unicode character data. This column likely stores the names of the baseball players.  2. 'position' - This NVARCHAR type column probably stores the position each player holds in the team. Examples could include positions like pitcher, catcher, infielder, outfielder, etc.  3. 'Games_Played' - The TINYINT type column is used for storing very small numbers. This field likely stores the number of games played by each player.  4. 'At_Bats' - This SMALLINT type column is used for storing small numbers. It probably represents the number of times a player has been at bat.  5. 'Hits' - Another TINYINT type column, it likely stores the number of successful hits made by each player.\n",
      "--------------------------------------------------\n",
      "Table Name: detroit_tigers_baseball_stats\n",
      "Score: 0.0320020467042923\n",
      "Reranker Score: 1.506893277168274\n",
      "Content: The provided schema is for a table named 'detroit_tigers_baseball_stats', which likely stores statistical data related to the players of the Detroit Tigers, a professional baseball team. The table has eight columns, each with a distinct purpose.  1. 'name' (nvarchar): This field presumably stores the name of each player. The nvarchar data type suggests the names could be in any language, not just English.  2. 'position' (nvarchar): This field is likely to contain the position each player plays in the game. As an nvarchar, it can accommodate various position names.  3. 'Games_Played' (tinyint): This field appears to track the number of games each player has played. The tinyint data type indicates this number is likely to be relatively small (0-255).  4. 'At_Bats' (smallint): This field seems to monitor the number of times each player has been at bat. The smallint type can handle numbers up to 32,767, enough for this purpose.  5. 'Hits' (tinyint): This field likely records the number of \n",
      "--------------------------------------------------\n",
      "Table Name: expanded_detroit_tigers_baseball_stats\n",
      "Score: 0.0320020467042923\n",
      "Reranker Score: 1.4927235841751099\n",
      "Content: The provided schema is for a table named 'detroit_tigers_baseball_stats', which likely stores statistical data related to the players of the Detroit Tigers, a professional baseball team. The table has eight columns, each with a distinct purpose.  1. 'name' (nvarchar): This field presumably stores the player's name. It is of the 'nvarchar' data type, which can hold Unicode text. This implies that the database can store names in various languages and scripts, accommodating a wide range of player names.  2. 'position' (nvarchar): This field likely defines the player's position on the team. Similar to 'name', the 'nvarchar' type allows for diverse entries, including positions specific to baseball like 'pitcher', 'catcher', 'first base', etc.  3. 'Games_Played' (tinyint): This field appears to keep track of the number of games each player has participated in. The 'tinyint' data type is used, suggesting that the number of games a player can participate in is expected to be relatively small. \n",
      "--------------------------------------------------\n"
     ]
    }
   ],
   "source": [
    "# hybrid retrieval + rerank\n",
    "r = search_client.search(\n",
    "    search_query,\n",
    "    top=5,\n",
    "    vector_queries=[RawVectorQuery(vector=search_vector, k=50, fields=\"table_vector\")],\n",
    "    query_type=\"semantic\",\n",
    "    semantic_configuration_name=\"query-index-semantic-config\",\n",
    "    query_language=\"en-us\",\n",
    ")\n",
    "\n",
    "for doc in r:\n",
    "    content = doc[\"table_content\"].replace(\"\\n\", \" \")[:1000]\n",
    "    table_name = doc[\"table_name\"]\n",
    "    score = doc[\"@search.score\"]\n",
    "    reranker_score = doc[\"@search.reranker_score\"]\n",
    "\n",
    "    print(f\"Table Name: {table_name}\")\n",
    "    print(f\"Score: {score}\")\n",
    "    print(f\"Reranker Score: {reranker_score}\")\n",
    "    print(f\"Content: {content}\")\n",
    "    print(\"-\" * 50)  # prints a separator for readability"
   ]
  },
  {
   "cell_type": "code",
   "execution_count": null,
   "metadata": {},
   "outputs": [],
   "source": []
  }
 ],
 "metadata": {
  "kernelspec": {
   "display_name": "build-your-own-copilot",
   "language": "python",
   "name": "python3"
  },
  "language_info": {
   "codemirror_mode": {
    "name": "ipython",
    "version": 3
   },
   "file_extension": ".py",
   "mimetype": "text/x-python",
   "name": "python",
   "nbconvert_exporter": "python",
   "pygments_lexer": "ipython3",
   "version": "3.9.18"
  }
 },
 "nbformat": 4,
 "nbformat_minor": 2
}
